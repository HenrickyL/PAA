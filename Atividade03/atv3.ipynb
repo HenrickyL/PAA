{
 "cells": [
  {
   "cell_type": "markdown",
   "metadata": {},
   "source": [
    "<center>\n",
    "\n",
    "# Atividade PAA - Avaliação experimental\n",
    "\n",
    "</center>\n",
    "\n",
    "Henricky de Lima Monteiro - 475075"
   ]
  },
  {
   "cell_type": "markdown",
   "metadata": {},
   "source": []
  },
  {
   "cell_type": "code",
   "execution_count": 21,
   "metadata": {},
   "outputs": [],
   "source": [
    "import numpy as np\n",
    "import matplotlib.pyplot as plt\n",
    "# from typing import List\n",
    "from random import seed,randint\n",
    "from time import time"
   ]
  },
  {
   "cell_type": "code",
   "execution_count": 22,
   "metadata": {},
   "outputs": [],
   "source": [
    "def GenerateData(lenghts):\n",
    "    seed(42)\n",
    "    return [ [ randint(0,100) for j in range(len)] for len in lenghts]"
   ]
  },
  {
   "cell_type": "code",
   "execution_count": 23,
   "metadata": {},
   "outputs": [],
   "source": [
    "def bubleSort(A):\n",
    "    for i in range(len(A)-1):\n",
    "        for j in range(len(A)-1):\n",
    "            if(A[j]>A[j+1]):\n",
    "                aux = A[j]\n",
    "                A[j]=A[j+1]\n",
    "                A[j+1]=aux"
   ]
  },
  {
   "cell_type": "code",
   "execution_count": 24,
   "metadata": {},
   "outputs": [],
   "source": [
    "def mergeSort(A):\n",
    "    if(len(A)>1):\n",
    "        mid = len(A)//2\n",
    "        left = A[:mid]\n",
    "        right = A[mid:]\n",
    "        mergeSort(left)\n",
    "        mergeSort(right)\n",
    "        i=0\n",
    "        j=0\n",
    "        k=0\n",
    "        while(i<len(left) and j<len(right)):\n",
    "            if(left[i]<right[j]):\n",
    "                A[k] = left[i]\n",
    "                i+=1\n",
    "            else:\n",
    "                A[k]=right[j]\n",
    "                j+=1\n",
    "            k+=1\n",
    "        while(i< len(left)):\n",
    "            A[k]=left[i]\n",
    "            i+=1\n",
    "            k+=1\n",
    "        while(j< len(right)):\n",
    "            A[k]=right[j]\n",
    "            j+=1\n",
    "            k+=1"
   ]
  },
  {
   "cell_type": "code",
   "execution_count": 25,
   "metadata": {},
   "outputs": [],
   "source": [
    "def recursive(n):\n",
    "    if(n<=1): return 1\n",
    "    else: return recursive(n-1)+recursive(n-1)"
   ]
  },
  {
   "cell_type": "code",
   "execution_count": 31,
   "metadata": {},
   "outputs": [],
   "source": [
    "def GenerateDataByMethod(lenghts, n, method, name):\n",
    "    f = open(\"{0}.txt\".format(name),\"w\")\n",
    "    for l in lenghts:\n",
    "        res = 0\n",
    "        for i in range(n):\n",
    "            v = l.copy()\n",
    "            ini = time()\n",
    "            method(v)\n",
    "            fin = time()\n",
    "            res += fin-ini\n",
    "        res = (res/n)*1000\n",
    "        \n",
    "        print('close len {l} in {name} in {s: .2f}ms'.format(l=len(l),s=res,name=name))\n",
    "        f.write(\"{l} {t:.2f}\\n\".format(l = len(l), t= res))\n",
    "    f.close()"
   ]
  },
  {
   "cell_type": "code",
   "execution_count": 32,
   "metadata": {},
   "outputs": [
    {
     "name": "stdout",
     "output_type": "stream",
     "text": [
      "close len 10 in bubleSort in  0.00ms\n",
      "close len 100 in bubleSort in  0.79ms\n",
      "close len 1000 in bubleSort in  83.77ms\n",
      "close len 2000 in bubleSort in  337.89ms\n",
      "close len 3000 in bubleSort in  755.76ms\n",
      "close len 5000 in bubleSort in  2110.67ms\n",
      "close len 8000 in bubleSort in  5409.76ms\n",
      "close len 10000 in bubleSort in  8566.80ms\n",
      "close len 10 in mergeSort in  0.00ms\n",
      "close len 100 in mergeSort in  0.20ms\n",
      "close len 1000 in mergeSort in  1.80ms\n",
      "close len 2000 in mergeSort in  4.00ms\n",
      "close len 3000 in mergeSort in  6.40ms\n",
      "close len 5000 in mergeSort in  11.00ms\n",
      "close len 8000 in mergeSort in  18.49ms\n",
      "close len 10000 in mergeSort in  25.20ms\n"
     ]
    }
   ],
   "source": [
    "lenghts = GenerateData([10,100,1000,2000,3000, 5000, 8000, 10000])\n",
    "n = 5\n",
    "GenerateDataByMethod(lenghts,n, bubleSort, 'bubleSort')\n",
    "GenerateDataByMethod(lenghts,n, mergeSort, 'mergeSort')\n"
   ]
  },
  {
   "cell_type": "code",
   "execution_count": null,
   "metadata": {},
   "outputs": [],
   "source": []
  }
 ],
 "metadata": {
  "kernelspec": {
   "display_name": "Python 3.10.4 64-bit",
   "language": "python",
   "name": "python3"
  },
  "language_info": {
   "codemirror_mode": {
    "name": "ipython",
    "version": 3
   },
   "file_extension": ".py",
   "mimetype": "text/x-python",
   "name": "python",
   "nbconvert_exporter": "python",
   "pygments_lexer": "ipython3",
   "version": "3.10.4"
  },
  "orig_nbformat": 4,
  "vscode": {
   "interpreter": {
    "hash": "369f2c481f4da34e4445cda3fffd2e751bd1c4d706f27375911949ba6bb62e1c"
   }
  }
 },
 "nbformat": 4,
 "nbformat_minor": 2
}
