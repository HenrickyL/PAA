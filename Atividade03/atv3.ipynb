{
 "cells": [
  {
   "cell_type": "markdown",
   "metadata": {},
   "source": [
    "<center>\n",
    "\n",
    "# Atividade PAA - Avaliação experimental\n",
    "\n",
    "</center>\n",
    "\n",
    "Henricky de Lima Monteiro - 475075"
   ]
  },
  {
   "cell_type": "markdown",
   "metadata": {},
   "source": []
  },
  {
   "cell_type": "code",
   "execution_count": 5,
   "metadata": {},
   "outputs": [],
   "source": [
    "import numpy as np\n",
    "import matplotlib.pyplot as plt\n",
    "# from typing import List\n",
    "from random import seed,randint\n",
    "from time import time"
   ]
  },
  {
   "cell_type": "code",
   "execution_count": 6,
   "metadata": {},
   "outputs": [],
   "source": [
    "def GenerateData(lenghts):\n",
    "    seed(42)\n",
    "    return [ [ randint(0,100) for j in range(len)] for len in lenghts]"
   ]
  },
  {
   "cell_type": "code",
   "execution_count": 7,
   "metadata": {},
   "outputs": [],
   "source": [
    "def bubleSort(A):\n",
    "    for i in range(len(A)-1):\n",
    "        for j in range(len(A)-1):\n",
    "            if(A[j]>A[j+1]):\n",
    "                aux = A[j]\n",
    "                A[j]=A[j+1]\n",
    "                A[j+1]=aux"
   ]
  },
  {
   "cell_type": "code",
   "execution_count": 8,
   "metadata": {},
   "outputs": [],
   "source": [
    "def mergeSort(A):\n",
    "    if(len(A)>1):\n",
    "        mid = len(A)//2\n",
    "        left = A[:mid]\n",
    "        right = A[mid:]\n",
    "        mergeSort(left)\n",
    "        mergeSort(right)\n",
    "        i=0\n",
    "        j=0\n",
    "        k=0\n",
    "        while(i<len(left) and j<len(right)):\n",
    "            if(left[i]<right[j]):\n",
    "                A[k] = left[i]\n",
    "                i+=1\n",
    "            else:\n",
    "                A[k]=right[j]\n",
    "                j+=1\n",
    "            k+=1\n",
    "        while(i< len(left)):\n",
    "            A[k]=left[i]\n",
    "            i+=1\n",
    "            k+=1\n",
    "        while(j< len(right)):\n",
    "            A[k]=right[j]\n",
    "            j+=1\n",
    "            k+=1"
   ]
  },
  {
   "cell_type": "code",
   "execution_count": 9,
   "metadata": {},
   "outputs": [],
   "source": [
    "def recursive(n):\n",
    "    if(n<=1): return 1\n",
    "    else: return recursive(n-1)+recursive(n-1)"
   ]
  },
  {
   "cell_type": "code",
   "execution_count": 10,
   "metadata": {},
   "outputs": [],
   "source": [
    "def GenerateDataByMethod(lenghts, n, method, name, inputTypeArray=True):\n",
    "    f = open(\"{0}.txt\".format(name),\"w\")\n",
    "    for l in lenghts:\n",
    "        res = 0\n",
    "        for i in range(n):\n",
    "            if(inputTypeArray):\n",
    "                v = l.copy()\n",
    "                ini = time()\n",
    "                method(v)\n",
    "                fin = time()\n",
    "                res += fin-ini\n",
    "            else:\n",
    "                ini = time()\n",
    "                method(l)\n",
    "                fin = time()\n",
    "                res += fin-ini\n",
    "        res = (res/n)*1000\n",
    "        print('close len {l} in {name} in {s: .2f}ms'.format(l=len(l),s=res,name=name))\n",
    "        f.write(\"{l} {t:.2f}\\n\".format(l = len(l), t= res))\n",
    "    f.close()"
   ]
  },
  {
   "cell_type": "code",
   "execution_count": 12,
   "metadata": {},
   "outputs": [
    {
     "name": "stdout",
     "output_type": "stream",
     "text": [
      "close len 10 in bubleSort in  0.00ms\n",
      "close len 100 in bubleSort in  0.60ms\n",
      "close len 1000 in bubleSort in  83.20ms\n",
      "close len 2000 in bubleSort in  337.60ms\n",
      "close len 3000 in bubleSort in  760.40ms\n",
      "close len 5000 in bubleSort in  2115.00ms\n",
      "close len 8000 in bubleSort in  5396.20ms\n",
      "close len 10000 in bubleSort in  8466.20ms\n",
      "close len 10 in mergeSort in  0.00ms\n",
      "close len 100 in mergeSort in  0.00ms\n",
      "close len 1000 in mergeSort in  1.80ms\n",
      "close len 2000 in mergeSort in  4.00ms\n",
      "close len 3000 in mergeSort in  6.40ms\n",
      "close len 5000 in mergeSort in  11.40ms\n",
      "close len 8000 in mergeSort in  18.80ms\n",
      "close len 10000 in mergeSort in  25.00ms\n"
     ]
    },
    {
     "ename": "TypeError",
     "evalue": "object of type 'int' has no len()",
     "output_type": "error",
     "traceback": [
      "\u001b[1;31m---------------------------------------------------------------------------\u001b[0m",
      "\u001b[1;31mTypeError\u001b[0m                                 Traceback (most recent call last)",
      "\u001b[1;32mc:\\Users\\henri\\Documents\\UFC\\SEMESTRE 8\\PAA\\Atividade03\\atv3.ipynb Célula: 9\u001b[0m in \u001b[0;36m<cell line: 6>\u001b[1;34m()\u001b[0m\n\u001b[0;32m      <a href='vscode-notebook-cell:/c%3A/Users/henri/Documents/UFC/SEMESTRE%208/PAA/Atividade03/atv3.ipynb#X11sZmlsZQ%3D%3D?line=3'>4</a>\u001b[0m GenerateDataByMethod(lenghts,n, mergeSort, \u001b[39m'\u001b[39m\u001b[39mmergeSort\u001b[39m\u001b[39m'\u001b[39m)\n\u001b[0;32m      <a href='vscode-notebook-cell:/c%3A/Users/henri/Documents/UFC/SEMESTRE%208/PAA/Atividade03/atv3.ipynb#X11sZmlsZQ%3D%3D?line=4'>5</a>\u001b[0m inputs \u001b[39m=\u001b[39m [\u001b[39m10\u001b[39m, \u001b[39m20\u001b[39m, \u001b[39m30\u001b[39m, \u001b[39m40\u001b[39m, \u001b[39m50\u001b[39m]\n\u001b[1;32m----> <a href='vscode-notebook-cell:/c%3A/Users/henri/Documents/UFC/SEMESTRE%208/PAA/Atividade03/atv3.ipynb#X11sZmlsZQ%3D%3D?line=5'>6</a>\u001b[0m GenerateDataByMethod(inputs,n, recursive, \u001b[39m'\u001b[39;49m\u001b[39mrecursive\u001b[39;49m\u001b[39m'\u001b[39;49m,inputTypeArray\u001b[39m=\u001b[39;49m\u001b[39mFalse\u001b[39;49;00m)\n",
      "\u001b[1;32mc:\\Users\\henri\\Documents\\UFC\\SEMESTRE 8\\PAA\\Atividade03\\atv3.ipynb Célula: 9\u001b[0m in \u001b[0;36mGenerateDataByMethod\u001b[1;34m(lenghts, n, method, name, inputTypeArray)\u001b[0m\n\u001b[0;32m     <a href='vscode-notebook-cell:/c%3A/Users/henri/Documents/UFC/SEMESTRE%208/PAA/Atividade03/atv3.ipynb#X11sZmlsZQ%3D%3D?line=10'>11</a>\u001b[0m     res \u001b[39m+\u001b[39m\u001b[39m=\u001b[39m fin\u001b[39m-\u001b[39mini\n\u001b[0;32m     <a href='vscode-notebook-cell:/c%3A/Users/henri/Documents/UFC/SEMESTRE%208/PAA/Atividade03/atv3.ipynb#X11sZmlsZQ%3D%3D?line=11'>12</a>\u001b[0m \u001b[39melse\u001b[39;00m:\n\u001b[1;32m---> <a href='vscode-notebook-cell:/c%3A/Users/henri/Documents/UFC/SEMESTRE%208/PAA/Atividade03/atv3.ipynb#X11sZmlsZQ%3D%3D?line=12'>13</a>\u001b[0m     aux \u001b[39m=\u001b[39m \u001b[39mlen\u001b[39;49m(l)\n\u001b[0;32m     <a href='vscode-notebook-cell:/c%3A/Users/henri/Documents/UFC/SEMESTRE%208/PAA/Atividade03/atv3.ipynb#X11sZmlsZQ%3D%3D?line=13'>14</a>\u001b[0m     ini \u001b[39m=\u001b[39m time()\n\u001b[0;32m     <a href='vscode-notebook-cell:/c%3A/Users/henri/Documents/UFC/SEMESTRE%208/PAA/Atividade03/atv3.ipynb#X11sZmlsZQ%3D%3D?line=14'>15</a>\u001b[0m     method(aux)\n",
      "\u001b[1;31mTypeError\u001b[0m: object of type 'int' has no len()"
     ]
    }
   ],
   "source": [
    "lenghts = GenerateData([10,100,1000,2000,3000, 5000, 8000, 10000])\n",
    "n = 5\n",
    "GenerateDataByMethod(lenghts,n, bubleSort, 'bubleSort')\n",
    "GenerateDataByMethod(lenghts,n, mergeSort, 'mergeSort')\n",
    "inputs = [10, 20, 30, 40, 50]\n",
    "GenerateDataByMethod(inputs,n, recursive, 'recursive',inputTypeArray=False)\n",
    "\n"
   ]
  },
  {
   "cell_type": "code",
   "execution_count": null,
   "metadata": {},
   "outputs": [],
   "source": []
  }
 ],
 "metadata": {
  "kernelspec": {
   "display_name": "Python 3.10.4 64-bit",
   "language": "python",
   "name": "python3"
  },
  "language_info": {
   "codemirror_mode": {
    "name": "ipython",
    "version": 3
   },
   "file_extension": ".py",
   "mimetype": "text/x-python",
   "name": "python",
   "nbconvert_exporter": "python",
   "pygments_lexer": "ipython3",
   "version": "3.10.4"
  },
  "orig_nbformat": 4,
  "vscode": {
   "interpreter": {
    "hash": "369f2c481f4da34e4445cda3fffd2e751bd1c4d706f27375911949ba6bb62e1c"
   }
  }
 },
 "nbformat": 4,
 "nbformat_minor": 2
}
