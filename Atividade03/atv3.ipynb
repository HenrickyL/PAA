{
 "cells": [
  {
   "cell_type": "markdown",
   "metadata": {},
   "source": [
    "<center>\n",
    "\n",
    "# Atividade PAA - Avaliação experimental\n",
    "\n",
    "</center>\n",
    "\n",
    "Henricky de Lima Monteiro - 475075"
   ]
  },
  {
   "cell_type": "markdown",
   "metadata": {},
   "source": []
  },
  {
   "cell_type": "code",
   "execution_count": 1,
   "metadata": {},
   "outputs": [],
   "source": [
    "import numpy as np\n",
    "import matplotlib.pyplot as plt\n",
    "# from typing import List\n",
    "from random import seed,randint\n",
    "from time import time"
   ]
  },
  {
   "cell_type": "code",
   "execution_count": 2,
   "metadata": {},
   "outputs": [],
   "source": [
    "def GenerateData(lenghts):\n",
    "    seed(42)\n",
    "    return [ [ randint(0,100) for j in range(len)] for len in lenghts]"
   ]
  },
  {
   "cell_type": "code",
   "execution_count": 3,
   "metadata": {},
   "outputs": [],
   "source": [
    "def bubleSort(A):\n",
    "    for i in range(len(A)-1):\n",
    "        for j in range(len(A)-1):\n",
    "            if(A[j]>A[j+1]):\n",
    "                aux = A[j]\n",
    "                A[j]=A[j+1]\n",
    "                A[j+1]=aux"
   ]
  },
  {
   "cell_type": "code",
   "execution_count": 4,
   "metadata": {},
   "outputs": [],
   "source": [
    "def mergeSort(A):\n",
    "    if(len(A)>1):\n",
    "        mid = len(A)//2\n",
    "        left = A[:mid]\n",
    "        right = A[mid:]\n",
    "        mergeSort(left)\n",
    "        mergeSort(right)\n",
    "        i=0\n",
    "        j=0\n",
    "        k=0\n",
    "        while(i<len(left) and j<len(right)):\n",
    "            if(left[i]<right[j]):\n",
    "                A[k] = left[i]\n",
    "                i+=1\n",
    "            else:\n",
    "                A[k]=right[j]\n",
    "                j+=1\n",
    "            k+=1\n",
    "        while(i< len(left)):\n",
    "            A[k]=left[i]\n",
    "            i+=1\n",
    "            k+=1\n",
    "        while(j< len(right)):\n",
    "            A[k]=right[j]\n",
    "            j+=1\n",
    "            k+=1"
   ]
  },
  {
   "cell_type": "code",
   "execution_count": 5,
   "metadata": {},
   "outputs": [],
   "source": [
    "def recursive(n):\n",
    "    if(n<=1): return 1\n",
    "    else: return recursive(n-1)+recursive(n-1)"
   ]
  },
  {
   "cell_type": "code",
   "execution_count": 6,
   "metadata": {},
   "outputs": [],
   "source": [
    "def GenerateDataByMethod(lenghts, n, method, name, inputTypeArray=True):\n",
    "    f = open(\"{0}.txt\".format(name),\"w\")\n",
    "    for l in lenghts:\n",
    "        res = 0\n",
    "        for i in range(n):\n",
    "            if(inputTypeArray):\n",
    "                v = l.copy()\n",
    "                ini = time()\n",
    "                method(v)\n",
    "                fin = time()\n",
    "                res += fin-ini\n",
    "            else:\n",
    "                ini = time()\n",
    "                method(l)\n",
    "                fin = time()\n",
    "                res += fin-ini\n",
    "        res = (res/n)*1000\n",
    "        param = len(l) if inputTypeArray else l\n",
    "        print('close len {l} in {name} in {s: .2f}ms'.format(l= param,s=res,name=name))\n",
    "        f.write(\"{l} {t:.2f}\\n\".format(l = param, t= res))\n",
    "    f.close()"
   ]
  },
  {
   "cell_type": "code",
   "execution_count": 34,
   "metadata": {},
   "outputs": [
    {
     "name": "stdout",
     "output_type": "stream",
     "text": [
      "close len 10 in bubleSort in  0.00ms\n",
      "close len 100 in bubleSort in  0.80ms\n",
      "close len 1000 in bubleSort in  81.56ms\n",
      "close len 2000 in bubleSort in  335.05ms\n",
      "close len 3000 in bubleSort in  749.46ms\n",
      "close len 5000 in bubleSort in  2094.75ms\n",
      "close len 8000 in bubleSort in  5363.86ms\n",
      "close len 10000 in bubleSort in  8412.18ms\n",
      "close len 10 in mergeSort in  0.00ms\n",
      "close len 100 in mergeSort in  0.20ms\n",
      "close len 1000 in mergeSort in  1.80ms\n",
      "close len 2000 in mergeSort in  4.00ms\n",
      "close len 3000 in mergeSort in  6.40ms\n",
      "close len 5000 in mergeSort in  11.20ms\n",
      "close len 8000 in mergeSort in  18.60ms\n",
      "close len 10000 in mergeSort in  26.15ms\n",
      "close len 15000 in mergeSort in  40.18ms\n",
      "close len 20000 in mergeSort in  52.60ms\n",
      "close len 25000 in mergeSort in  64.96ms\n",
      "close len 30000 in mergeSort in  81.76ms\n",
      "close len 35000 in mergeSort in  95.60ms\n",
      "close len 40000 in mergeSort in  109.52ms\n",
      "close len 12 in recursive in  0.20ms\n",
      "close len 14 in recursive in  1.20ms\n",
      "close len 16 in recursive in  4.40ms\n",
      "close len 18 in recursive in  17.60ms\n",
      "close len 20 in recursive in  70.60ms\n",
      "close len 22 in recursive in  281.83ms\n",
      "close len 24 in recursive in  1119.70ms\n",
      "close len 26 in recursive in  4501.82ms\n"
     ]
    }
   ],
   "source": [
    "lenghts = GenerateData([10,100,1000,2000,3000, 5000, 8000, 10000])\n",
    "n = 5\n",
    "GenerateDataByMethod(lenghts,n, bubleSort, 'bubleSort')\n",
    "lenghts = lenghts+ GenerateData([15000,20000,25000,30000,35000,40000])\n",
    "GenerateDataByMethod(lenghts,n, mergeSort, 'mergeSort')\n",
    "inputs = [i for i in range(12,28,2)]\n",
    "GenerateDataByMethod(inputs,n, recursive, 'recursive',inputTypeArray=False)\n",
    "\n"
   ]
  },
  {
   "cell_type": "markdown",
   "metadata": {},
   "source": [
    "## Gerando os gráficos"
   ]
  },
  {
   "cell_type": "code",
   "execution_count": 41,
   "metadata": {},
   "outputs": [],
   "source": [
    "def DrawGraphic(file, color='b'):\n",
    "    title = file.replace('.txt','')\n",
    "    A = np.loadtxt(file)\n",
    "    x = [i[0] for i in A]\n",
    "    y = [i[1] for i in A]\n",
    "    plt.plot(x,y, 'o:',color=color, label=title)\n",
    "    plt.title(title,fontweight='bold')\n",
    "    # plt.ylabel(\"Tamanho\")\n",
    "    # plt.ylabel=\"Tempo (ms)\"\n",
    "    plt.legend()\n",
    "    plt.show()\n",
    "    "
   ]
  },
  {
   "cell_type": "code",
   "execution_count": 42,
   "metadata": {},
   "outputs": [
    {
     "data": {
      "image/png": "[encoded data removed]",
      "text/plain": [
       "<Figure size 432x288 with 1 Axes>"
      ]
     },
     "metadata": {
      "needs_background": "light"
     },
     "output_type": "display_data"
    },
    {
     "data": {
      "image/png": "[encoded data removed]",
      "text/plain": [
       "<Figure size 432x288 with 1 Axes>"
      ]
     },
     "metadata": {
      "needs_background": "light"
     },
     "output_type": "display_data"
    },
    {
     "data": {
      "image/png": "[encoded data removed]",
      "text/plain": [
       "<Figure size 432x288 with 1 Axes>"
      ]
     },
     "metadata": {
      "needs_background": "light"
     },
     "output_type": "display_data"
    }
   ],
   "source": [
    "DrawGraphic('bubleSort.txt')\n",
    "DrawGraphic('mergeSort.txt')\n",
    "DrawGraphic('recursive.txt')\n"
   ]
  },
  {
   "cell_type": "code",
   "execution_count": 30,
   "metadata": {},
   "outputs": [
    {
     "data": {
      "text/plain": [
       "[1, 2, 3, 4, 5, 6, 7, 8]"
      ]
     },
     "execution_count": 30,
     "metadata": {},
     "output_type": "execute_result"
    }
   ],
   "source": [
    "[1,2,3,4]+[5,6,7,8]"
   ]
  },
  {
   "cell_type": "code",
   "execution_count": null,
   "metadata": {},
   "outputs": [],
   "source": []
  }
 ],
 "metadata": {
  "kernelspec": {
   "display_name": "Python 3.10.4 64-bit",
   "language": "python",
   "name": "python3"
  },
  "language_info": {
   "codemirror_mode": {
    "name": "ipython",
    "version": 3
   },
   "file_extension": ".py",
   "mimetype": "text/x-python",
   "name": "python",
   "nbconvert_exporter": "python",
   "pygments_lexer": "ipython3",
   "version": "3.10.4"
  },
  "orig_nbformat": 4,
  "vscode": {
   "interpreter": {
    "hash": "369f2c481f4da34e4445cda3fffd2e751bd1c4d706f27375911949ba6bb62e1c"
   }
  }
 },
 "nbformat": 4,
 "nbformat_minor": 2
}
