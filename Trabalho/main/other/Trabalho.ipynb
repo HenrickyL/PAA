{
 "cells": [
  {
   "cell_type": "markdown",
   "metadata": {},
   "source": [
    "# Trabalho PAA\n",
    "\n",
    "\n",
    "## Algoritmo Base:"
   ]
  },
  {
   "cell_type": "code",
   "execution_count": 4,
   "metadata": {},
   "outputs": [],
   "source": [
    "from random import randint "
   ]
  },
  {
   "cell_type": "code",
   "execution_count": 11,
   "metadata": {},
   "outputs": [
    {
     "name": "stdout",
     "output_type": "stream",
     "text": [
      "(0,0) -> t: aaax p: .*a*b\n",
      "\t(0,2) -> t: aaax p: a*b\n",
      "\t\t(0,4) -> t: aaax p: b\n",
      "\t\t(1,2) -> t: aax p: a*b\n",
      "\t\t\t(1,4) -> t: aax p: b\n",
      "\t\t\t(2,2) -> t: ax p: a*b\n",
      "\t\t\t\t(2,4) -> t: ax p: b\n",
      "\t\t\t\t(3,2) -> t: x p: a*b\n",
      "\t\t\t\t\t(3,4) -> t: x p: b\n",
      "\t(1,0) -> t: aax p: .*a*b\n",
      "\t\t(1,2) -> t: aax p: a*b\n",
      "\t\t\t(1,4) -> t: aax p: b\n",
      "\t\t\t(2,2) -> t: ax p: a*b\n",
      "\t\t\t\t(2,4) -> t: ax p: b\n",
      "\t\t\t\t(3,2) -> t: x p: a*b\n",
      "\t\t\t\t\t(3,4) -> t: x p: b\n",
      "\t\t(2,0) -> t: ax p: .*a*b\n",
      "\t\t\t(2,2) -> t: ax p: a*b\n",
      "\t\t\t\t(2,4) -> t: ax p: b\n",
      "\t\t\t\t(3,2) -> t: x p: a*b\n",
      "\t\t\t\t\t(3,4) -> t: x p: b\n",
      "\t\t\t(3,0) -> t: x p: .*a*b\n",
      "\t\t\t\t(3,2) -> t: x p: a*b\n",
      "\t\t\t\t\t(3,4) -> t: x p: b\n",
      "False\n"
     ]
    }
   ],
   "source": [
    "def isMatch(text, pattern):\n",
    "  def dp(i, j, count=0):\n",
    "    if(i< len(text) and j<len(pattern)):\n",
    "      print('\\t'*count+f'({i},{j}) -> t: {text[i:]} p: {pattern[j:]}')\n",
    "    if j == len(pattern):\n",
    "        ans = i == len(text)\n",
    "    else:\n",
    "        first_match = i < len(text) and pattern[j] in {text[i], '.'}\n",
    "        if j+1 < len(pattern) and pattern[j+1] == '*':\n",
    "            c1 = dp(i, j+2, count=count+1)\n",
    "            ans = c1 or first_match and dp(i+1, j, count=count+1)\n",
    "        else:\n",
    "            ans = first_match and dp(i+1, j+1, count=count+1)\n",
    "\n",
    "    return ans\n",
    "  return dp(0, 0)\n",
    "\n",
    "\n",
    "\n",
    "\n",
    "# isMatch('acc', 'ac*aa')\n",
    "# print('--------')\n",
    "# isMatch('accG', 'ac*G')\n",
    "# print('--------')\n",
    "# isMatch('a', 'ac*')\n",
    "# print('--------')\n",
    "# isMatch('aab', 'c*a*b')\n",
    "# isMatch('aab', '.*')\n",
    "print(isMatch('aaax','.*a*b'))\n",
    "\n"
   ]
  },
  {
   "cell_type": "code",
   "execution_count": 6,
   "metadata": {},
   "outputs": [],
   "source": [
    "import csv\n",
    "\n",
    "def writeCsv(name,data):\n",
    "# open the file in the write mode\n",
    "  with open(f'{name}.csv','w') as file:\n",
    "    # create the csv writer\n",
    "    writer = csv.writer(file)\n",
    "    for row in data:\n",
    "      writer.writerow(row)\n",
    "    # close the file\n",
    "    file.close()"
   ]
  },
  {
   "cell_type": "code",
   "execution_count": 7,
   "metadata": {},
   "outputs": [
    {
     "name": "stdout",
     "output_type": "stream",
     "text": [
      "(0,0) -> t: a p: a*\n",
      "\t(1,0) -> t:  p: a*\n",
      "-------------\n",
      "(0,0) -> t: aab p: c*a*b\n",
      "\t(0,2) -> t: aab p: a*b\n",
      "\t\t(0,4) -> t: aab p: b\n",
      "\t\t(1,2) -> t: ab p: a*b\n",
      "\t\t\t(1,4) -> t: ab p: b\n",
      "\t\t\t(2,2) -> t: b p: a*b\n",
      "\t\t\t\t(2,4) -> t: b p: b\n",
      "-------------\n",
      "(0,0) -> t: aaaa p: c*a*\n",
      "\t(0,2) -> t: aaaa p: a*\n",
      "\t\t(1,2) -> t: aaa p: a*\n",
      "\t\t\t(2,2) -> t: aa p: a*\n",
      "\t\t\t\t(3,2) -> t: a p: a*\n",
      "\t\t\t\t\t(4,2) -> t:  p: a*\n",
      "-------------\n",
      "(0,0) -> t: abcx p: .*\n",
      "\t(1,0) -> t: bcx p: .*\n",
      "\t\t(2,0) -> t: cx p: .*\n",
      "\t\t\t(3,0) -> t: x p: .*\n",
      "\t\t\t\t(4,0) -> t:  p: .*\n",
      "-------------\n",
      "(0,0) -> t: abcxa p: abcxa\n",
      "\t(1,1) -> t: bcxa p: bcxa\n",
      "\t\t(2,2) -> t: cxa p: cxa\n",
      "\t\t\t(3,3) -> t: xa p: xa\n",
      "\t\t\t\t(4,4) -> t: a p: a\n",
      "-------------\n",
      "(0,0) -> t: z p: a*b*c*zk*\n",
      "\t(0,2) -> t: z p: b*c*zk*\n",
      "\t\t(0,4) -> t: z p: c*zk*\n",
      "\t\t\t(0,6) -> t: z p: zk*\n",
      "\t\t\t\t(1,7) -> t:  p: k*\n",
      "-------------\n",
      "(0,0) -> t: xccc p: xc*\n",
      "\t(1,1) -> t: ccc p: c*\n",
      "\t\t(2,1) -> t: cc p: c*\n",
      "\t\t\t(3,1) -> t: c p: c*\n",
      "\t\t\t\t(4,1) -> t:  p: c*\n",
      "-------------\n",
      "(0,0) -> t:  p: .*\n",
      "-------------\n",
      "(0,0) -> t: dasdasjda p: .*\n",
      "\t(1,0) -> t: asdasjda p: .*\n",
      "\t\t(2,0) -> t: sdasjda p: .*\n",
      "\t\t\t(3,0) -> t: dasjda p: .*\n",
      "\t\t\t\t(4,0) -> t: asjda p: .*\n",
      "\t\t\t\t\t(5,0) -> t: sjda p: .*\n",
      "\t\t\t\t\t\t(6,0) -> t: jda p: .*\n",
      "\t\t\t\t\t\t\t(7,0) -> t: da p: .*\n",
      "\t\t\t\t\t\t\t\t(8,0) -> t: a p: .*\n",
      "\t\t\t\t\t\t\t\t\t(9,0) -> t:  p: .*\n",
      "-------------\n",
      "(0,0) -> t: aaaax p: .*a*\n",
      "\t(0,2) -> t: aaaax p: a*\n",
      "\t\t(1,2) -> t: aaax p: a*\n",
      "\t\t\t(2,2) -> t: aax p: a*\n",
      "\t\t\t\t(3,2) -> t: ax p: a*\n",
      "\t\t\t\t\t(4,2) -> t: x p: a*\n",
      "\t(1,0) -> t: aaax p: .*a*\n",
      "\n",
      "#\n",
      "\n",
      "\t\t(2,0) -> t: aax p: .*a*\n",
      "\n",
      "#\n",
      "\n",
      "\t\t\t(3,0) -> t: ax p: .*a*\n",
      "\n",
      "#\n",
      "\n",
      "\t\t\t\t(4,0) -> t: x p: .*a*\n",
      "\n",
      "#\n",
      "\n",
      "\t\t\t\t\t(5,0) -> t:  p: .*a*\n",
      "\t\t\t\t\t\t(5,2) -> t:  p: a*\n",
      "-------------\n",
      "(0,0) -> t: aaaa p: a\n",
      "-------------\n",
      "(0,0) -> t: bbb p: a*\n",
      "-------------\n",
      "(0,0) -> t: bbb p: ca*\n",
      "-------------\n",
      "(0,0) -> t: bbb p: b*c\n",
      "\t(0,2) -> t: bbb p: c\n",
      "\t(1,0) -> t: bb p: b*c\n",
      "\t\t(1,2) -> t: bb p: c\n",
      "\t\t(2,0) -> t: b p: b*c\n",
      "\t\t\t(2,2) -> t: b p: c\n",
      "\t\t\t(3,0) -> t:  p: b*c\n",
      "\t\t\t\t(3,2) -> t:  p: c\n",
      "-------------\n",
      "(0,0) -> t: aaaab p: .*a*x\n",
      "\t(0,2) -> t: aaaab p: a*x\n",
      "\t\t(0,4) -> t: aaaab p: x\n",
      "\t\t(1,2) -> t: aaab p: a*x\n",
      "\t\t\t(1,4) -> t: aaab p: x\n",
      "\t\t\t(2,2) -> t: aab p: a*x\n",
      "\t\t\t\t(2,4) -> t: aab p: x\n",
      "\t\t\t\t(3,2) -> t: ab p: a*x\n",
      "\t\t\t\t\t(3,4) -> t: ab p: x\n",
      "\t\t\t\t\t(4,2) -> t: b p: a*x\n",
      "\t\t\t\t\t\t(4,4) -> t: b p: x\n",
      "\t(1,0) -> t: aaab p: .*a*x\n",
      "\n",
      "#\n",
      "\n",
      "\t\t(2,0) -> t: aab p: .*a*x\n",
      "\n",
      "#\n",
      "\n",
      "\t\t\t(3,0) -> t: ab p: .*a*x\n",
      "\n",
      "#\n",
      "\n",
      "\t\t\t\t(4,0) -> t: b p: .*a*x\n",
      "\n",
      "#\n",
      "\n",
      "\t\t\t\t\t(5,0) -> t:  p: .*a*x\n",
      "\t\t\t\t\t\t(5,2) -> t:  p: a*x\n",
      "\t\t\t\t\t\t\t(5,4) -> t:  p: x\n",
      "-------------\n",
      "(0,0) -> t:  p: b*ac*\n",
      "\t(0,2) -> t:  p: ac*\n",
      "-------------\n",
      "(0,0) -> t: xaxaxa p: x*a*\n",
      "\t(0,2) -> t: xaxaxa p: a*\n",
      "\t(1,0) -> t: axaxa p: x*a*\n",
      "\t\t(1,2) -> t: axaxa p: a*\n",
      "\t\t\t(2,2) -> t: xaxa p: a*\n",
      "-------------\n",
      "(0,0) -> t: dotatres p: valve\n",
      "-------------\n"
     ]
    }
   ],
   "source": [
    "def isMatch(text, pattern):\n",
    "  memo = {}\n",
    "  def dp(i, j, count=0):\n",
    "    if (i, j)  in memo:\n",
    "      print('\\n#\\n')\n",
    "      return memo[(i, j)]\n",
    "    if j == len(pattern):\n",
    "        memo[(i, j)] = i == len(text)\n",
    "        return memo[(i, j)]\n",
    "\n",
    "    if(i<= len(text) and j<len(pattern)):\n",
    "      print('\\t'*count+f'({i},{j}) -> t: {text[i:]} p: {pattern[j:]}')\n",
    "      # print(memo)\n",
    "    \n",
    "    first_match = i < len(text) and pattern[j] in {text[i], '.'}\n",
    "    if j+1 < len(pattern) and pattern[j+1] == '*':\n",
    "          memo[(i, j)] = dp(i, j+2, count=count+1) or first_match and dp(i+1, j, count=count+1)\n",
    "          return  memo[(i, j)]\n",
    "    if first_match:\n",
    "          memo[(i, j)] = dp(i+1, j+1, count=count+1)\n",
    "          return  memo[(i, j)]\n",
    "    memo[(i, j)] = False\n",
    "    return memo[(i, j)]\n",
    "  res = dp(0, 0)\n",
    "  print('-------------')\n",
    "  return res\n",
    "\n",
    "\n",
    "useCasesTrue = [\n",
    "  ('a','a*'),\n",
    "  ('aab','c*a*b'),\n",
    "  ('aaaa','c*a*'),\n",
    "  ('abcx','.*'),\n",
    "  ('abcxa','abcxa'),\n",
    "  ('z','a*b*c*zk*'),\n",
    "  ('xccc','xc*'),\n",
    "  ('','.*'),\n",
    "  ('dasdasjda','.*'),\n",
    "  ('aaaax','.*a*')\n",
    "  ]\n",
    "\n",
    "useCasesFalse = [\n",
    "  ('aaaa','a'),\n",
    "  ('bbb','a*'),\n",
    "  ('bbb','ca*'),\n",
    "  ('bbb','b*c'),\n",
    "  ('aaaab','.*a*x'),\n",
    "  ('','b*ac*'),\n",
    "  ('xaxaxa','x*a*'),\n",
    "  ('dotatres','valve')\n",
    "]\n",
    "\n",
    "form = lambda uc: [ [x,y, isMatch(x,y) ] for x,y in uc ]\n",
    "writeCsv('useCasesTrue',form(useCasesTrue))\n",
    "writeCsv('useCasesFalse',form(useCasesFalse))\n",
    "# print(form(useCasesTrue))\n",
    "# print(form(useCasesFalse))\n",
    "# print(isMatch('xnasx','.*a'))\n",
    "# print(isMatch('abcaaalsdjasdjasbd','abc.*'))\n",
    "# print(isMatch('aaax','.*a*b'))\n",
    "\n"
   ]
  },
  {
   "cell_type": "code",
   "execution_count": 8,
   "metadata": {},
   "outputs": [
    {
     "name": "stdout",
     "output_type": "stream",
     "text": [
      "(0,0) -> t: aaax p: .*a*b\n",
      "\t(0,2) -> t: aaax p: a*b\n",
      "\t\t(0,4) -> t: aaax p: b\n",
      "\t\t(1,2) -> t: aax p: a*b\n",
      "\t\t\t(1,4) -> t: aax p: b\n",
      "\t\t\t(2,2) -> t: ax p: a*b\n",
      "\t\t\t\t(2,4) -> t: ax p: b\n",
      "\t\t\t\t(3,2) -> t: x p: a*b\n",
      "\t\t\t\t\t(3,4) -> t: x p: b\n",
      "\t(1,0) -> t: aax p: .*a*b\n",
      "\n",
      "#\n",
      "\n",
      "\t\t(2,0) -> t: ax p: .*a*b\n",
      "\n",
      "#\n",
      "\n",
      "\t\t\t(3,0) -> t: x p: .*a*b\n",
      "\n",
      "#\n",
      "\n",
      "\t\t\t\t(4,0) -> t:  p: .*a*b\n",
      "\t\t\t\t\t(4,2) -> t:  p: a*b\n",
      "\t\t\t\t\t\t(4,4) -> t:  p: b\n",
      "-------------\n",
      "False\n"
     ]
    }
   ],
   "source": [
    "print(isMatch('aaax','.*a*b'))"
   ]
  },
  {
   "cell_type": "markdown",
   "metadata": {},
   "source": []
  },
  {
   "cell_type": "markdown",
   "metadata": {},
   "source": [
    "## Algoritmo com Programação Dinâmica:"
   ]
  },
  {
   "cell_type": "code",
   "execution_count": 12,
   "metadata": {},
   "outputs": [
    {
     "name": "stdout",
     "output_type": "stream",
     "text": [
      "(0,0) -> t: aaax p: .*a*b\n",
      "\t(0,2) -> t: aaax p: a*b\n",
      "\t\t(0,4) -> t: aaax p: b\n",
      "\t\t(1,2) -> t: aax p: a*b\n",
      "\t\t\t(1,4) -> t: aax p: b\n",
      "\t\t\t(2,2) -> t: ax p: a*b\n",
      "\t\t\t\t(2,4) -> t: ax p: b\n",
      "\t\t\t\t(3,2) -> t: x p: a*b\n",
      "\t\t\t\t\t(3,4) -> t: x p: b\n",
      "\t(1,0) -> t: aax p: .*a*b\n",
      "#\n",
      "\t\t(2,0) -> t: ax p: .*a*b\n",
      "#\n",
      "\t\t\t(3,0) -> t: x p: .*a*b\n",
      "#\n",
      "\t\t\t\t(4,0) -> t:  p: .*a*b\n",
      "\t\t\t\t\t(4,2) -> t:  p: a*b\n",
      "\t\t\t\t\t\t(4,4) -> t:  p: b\n",
      "False\n"
     ]
    }
   ],
   "source": [
    "def isMatchDP(text: str, pattern: str)-> bool:\n",
    "    memo = {}\n",
    "    def match(i: int, j: int, count = 0)-> bool:\n",
    "        if((i,j) in memo):\n",
    "            print('#')\n",
    "            return memo[(i,j)]\n",
    "        if (j == len(pattern)):\n",
    "            memo[(i,j)] = ( i == len(text) )\n",
    "            return memo[(i,j)]\n",
    "        if(i<= len(text) and j<len(pattern)):\n",
    "            print('\\t'*count+f'({i},{j}) -> t: {text[i:]} p: {pattern[j:]}')\n",
    "            # print(memo)\n",
    "        first_match = i < len(text) and pattern[j] in {text[i], '.'}\n",
    "        if (j+1 < len(pattern) and pattern[j+1] == '*'):\n",
    "            memo[(i,j)] = match(i, j+2, count = count+1) or (first_match and match(i+1, j,count = count+1))\n",
    "            return memo[(i,j)]\n",
    "        else:\n",
    "            memo[(i,j)] = first_match and match(i+1, j+1, count = count+1)\n",
    "            return memo[(i,j)]\n",
    "    return match(0,0)\n",
    "print(isMatchDP('aaax','.*a*b'))"
   ]
  },
  {
   "cell_type": "markdown",
   "metadata": {},
   "source": [
    "## Gerar strings"
   ]
  },
  {
   "cell_type": "code",
   "execution_count": 5,
   "metadata": {},
   "outputs": [
    {
     "name": "stdout",
     "output_type": "stream",
     "text": [
      "patterns: ...: \n",
      "jmr\n",
      "gka\n",
      "jzk\n",
      "--------------\n",
      "patterns: ab*: \n",
      "abbbbb\n",
      "abb\n",
      "a\n",
      "--------------\n",
      "patterns: azbg: \n",
      "azbg\n",
      "azbg\n",
      "azbg\n",
      "--------------\n",
      "patterns: a*bcg*k: \n",
      "aaaaabcgk\n",
      "aaaabcggggk\n",
      "aabcgggk\n",
      "--------------\n"
     ]
    }
   ],
   "source": [
    "\n",
    "def stringGenerateByPattern(pattern: str, size: int=0)-> str:\n",
    "\n",
    "  def gen(i: int):\n",
    "    if(i>= len(pattern)):\n",
    "      return ''\n",
    "    options = list(map(chr, range(97, 123)))\n",
    "    if(i+1 < len(pattern) and pattern[i+1] == '*'):\n",
    "      current = pattern[i]*randint(0,5)\n",
    "      if(pattern[i] == '.'):\n",
    "        current = ''.join(\n",
    "          [options[randint(0,len(options))] for _ in current]\n",
    "        )\n",
    "      return current + gen(i+2)\n",
    "    return (pattern[i] if pattern[i] != '.' else options[randint(0,len(options)-1)])  + gen(i+1)\n",
    "  return gen(0)\n",
    "\n",
    "options = ['...', 'ab*', 'azbg', 'a*bcg*k']\n",
    "for op in options:\n",
    "  print(f'patterns: {op}: ')\n",
    "  print(stringGenerateByPattern(op))\n",
    "  print(stringGenerateByPattern(op))\n",
    "  print(stringGenerateByPattern(op))\n",
    "  print('--------------')\n",
    "   "
   ]
  },
  {
   "cell_type": "markdown",
   "metadata": {},
   "source": [
    "## Gerar patterns"
   ]
  },
  {
   "cell_type": "code",
   "execution_count": 116,
   "metadata": {},
   "outputs": [
    {
     "name": "stdout",
     "output_type": "stream",
     "text": [
      "bndwr\n",
      "v.ti*\n",
      "xawu.\n",
      "s*zq*\n",
      "nbrq.\n",
      "q*etg\n",
      "avd*l\n",
      "vwe*c\n",
      "yz..r\n",
      "rhnwh\n"
     ]
    }
   ],
   "source": [
    "def patternGenerateBySize(size: int)->str :\n",
    "  res = ''\n",
    "  options = ['.']+list(map(chr, range(97, 123))) + ['.']\n",
    "  get = lambda  : options[randint(0,len(options)-1)] \n",
    "  for i in range(size):\n",
    "    if(i == 0 or res[-1] == '*'):\n",
    "      res += get()\n",
    "    else:\n",
    "      res += get() if randint(0,100)%5 !=0 else '*'\n",
    "  return res\n",
    "\n",
    "for i in range(10):\n",
    "  print(patternGenerateBySize(5))"
   ]
  },
  {
   "cell_type": "markdown",
   "metadata": {},
   "source": [
    "## Gerar dados:\n",
    "\n",
    "* O tamanho de **text** é *n*\n",
    "* O tamanho de **pattern** é *m*\n",
    "\n",
    "fazer uma média pra um gráfico **tempo x n**?\n",
    "\n",
    "fazer uma média pra um gráfico **tempo x m**?\n",
    "\n",
    "fazer uma média pra um gráfico **m x n**?\n",
    "\n",
    "\n",
    "\n",
    "\n",
    "\n",
    "### Estimativa de complexidade teorica:\n",
    "\n",
    "$$\\text{O(} (T+P)\\cdot 2^{T+\\frac{P}{2}} \\text{)}$$"
   ]
  },
  {
   "cell_type": "markdown",
   "metadata": {},
   "source": [
    "## Funções\n",
    "\n",
    "### Normal"
   ]
  },
  {
   "cell_type": "code",
   "execution_count": null,
   "metadata": {},
   "outputs": [],
   "source": [
    "def isMatch(text, pattern):\n",
    "  def dp(i, j):\n",
    "    if j == len(pattern):\n",
    "        ans = i == len(text)\n",
    "    else:\n",
    "        first_match = i < len(text) and pattern[j] in {text[i], '.'}\n",
    "        if j+1 < len(pattern) and pattern[j+1] == '*':\n",
    "            ans =  dp(i, j+2) or first_match and dp(i+1, j)\n",
    "        else:\n",
    "            ans = first_match and dp(i+1, j+1)\n",
    "\n",
    "    return ans\n",
    "  return dp(0, 0)"
   ]
  },
  {
   "cell_type": "markdown",
   "metadata": {},
   "source": [
    "### DP"
   ]
  },
  {
   "cell_type": "code",
   "execution_count": null,
   "metadata": {},
   "outputs": [],
   "source": [
    "def isMatch(text: str, pattern: str)-> bool:\n",
    "    memo = {}\n",
    "    def match(i: int, j: int)-> bool:\n",
    "        if((i,j) in memo):\n",
    "            return memo[(i,j)]\n",
    "        if (j == len(pattern)):\n",
    "            memo[(i,j)] = ( i == len(text) )\n",
    "            return memo[(i,j)]\n",
    "        first_match = i < len(text) and pattern[j] in {text[i], '.'}\n",
    "        if (j+1 < len(pattern) and pattern[j+1] == '*'):\n",
    "            memo[(i,j)] = match(i, j+2) or (first_match and match(i+1, j))\n",
    "            return memo[(i,j)]\n",
    "        else:\n",
    "            memo[(i,j)] = first_match and match(i+1, j+1)\n",
    "            return memo[(i,j)]\n",
    "    return match(0,0)"
   ]
  },
  {
   "cell_type": "code",
   "execution_count": 14,
   "metadata": {},
   "outputs": [
    {
     "name": "stdout",
     "output_type": "stream",
     "text": [
      "aaaaabc\n"
     ]
    }
   ],
   "source": [
    "# a*bcd*c -> [a,*,b,c,d,*,c]\n",
    "def stringGenerateByPattern(pattern: str, size: int)-> str:\n",
    "  stackCharStar = []\n",
    "  _size:list[int] = [size]\n",
    "  lenP = len(pattern)\n",
    "  alphabet = list(map(chr, range(97, 123)))\n",
    "  get = lambda  : alphabet[randint(0,len(alphabet)-1)] \n",
    "  def gen(i:int)->str:\n",
    "    if(_size<0):\n",
    "      return '*'\n",
    "    if(i>= len(pattern)):\n",
    "      return ''\n",
    "    if(i+1 < lenP and pattern[i+1]=='*'):\n",
    "      stackCharStar.append(pattern[i])\n",
    "      next = gen(i+2, _size[0])\n",
    "      currentSize = 0\n",
    "      if(len(stackCharStar)>1):\n",
    "        currentSize = randint(0,_size)\n",
    "      else:\n",
    "        currentSize = _size\n",
    "      stackCharStar.pop()\n",
    "      _size -= currentSize\n",
    "      current = pattern[i]*currentSize if currentSize >0 else ''\n",
    "      if(pattern[i]=='.'):\n",
    "        current = ''.join([get() for _ in current])\n",
    "      prev = current\n",
    "      return prev + next\n",
    "    else:\n",
    "      value = get() if pattern[i]=='.' else pattern[i]\n",
    "      _size -= 1\n",
    "      return value + gen(i+1, _size)\n",
    "  return gen(0, size)\n",
    "    \n",
    "print(stringGenerateByPattern('a*bc', 5))\n",
    "    "
   ]
  },
  {
   "cell_type": "code",
   "execution_count": 9,
   "metadata": {},
   "outputs": [
    {
     "name": "stdout",
     "output_type": "stream",
     "text": [
      "[]\n",
      "([0, 2, 4], 10)\n"
     ]
    }
   ],
   "source": [
    "def aaa():\n",
    "    count = 10\n",
    "    aux: tuple[list,int] = ([], count)\n",
    "    print(aux[0])\n",
    "    def bbb():\n",
    "        for i in range(5):\n",
    "            if i%2==0:\n",
    "                aux[0].append(i)\n",
    "    bbb()\n",
    "    print(aux)\n",
    "\n",
    "aaa()"
   ]
  },
  {
   "cell_type": "markdown",
   "metadata": {},
   "source": [
    "### Teste"
   ]
  },
  {
   "cell_type": "code",
   "execution_count": 16,
   "metadata": {},
   "outputs": [
    {
     "name": "stdout",
     "output_type": "stream",
     "text": [
      "1.0\t\t[0,0]\n",
      "1.0\t\t[0,2]\n",
      "1.0\t\t[0,4]\n"
     ]
    },
    {
     "data": {
      "text/plain": [
       "3.0"
      ]
     },
     "execution_count": 16,
     "metadata": {},
     "output_type": "execute_result"
    }
   ],
   "source": [
    "memo = {}\n",
    "def fat(n):\n",
    "    if(n in memo): return memo[n]\n",
    "    if(n==0): \n",
    "        memo[n] = 1\n",
    "    else:\n",
    "        memo[n] = n*fat(n-1)\n",
    "    return memo[n]\n",
    "\n",
    "\n",
    "def comb(m,p):\n",
    "    return fat(m)/(fat(p)*fat(m-p))\n",
    "\n",
    "\n",
    "def func(t,p):\n",
    "    sum =0\n",
    "    for i in range(t+1):\n",
    "        for j in range(0,p+1,2):\n",
    "            aux =comb(i+j,i) \n",
    "            sum+=aux\n",
    "            print(f'{aux}\\t\\t[{i},{j}]')\n",
    "    return sum\n",
    "\n",
    "t= len('')\n",
    "p = len('a*bc')\n",
    "\n",
    "func(t,p)\n"
   ]
  },
  {
   "cell_type": "code",
   "execution_count": null,
   "metadata": {},
   "outputs": [],
   "source": []
  }
 ],
 "metadata": {
  "kernelspec": {
   "display_name": "Python 3.11.0 64-bit",
   "language": "python",
   "name": "python3"
  },
  "language_info": {
   "codemirror_mode": {
    "name": "ipython",
    "version": 3
   },
   "file_extension": ".py",
   "mimetype": "text/x-python",
   "name": "python",
   "nbconvert_exporter": "python",
   "pygments_lexer": "ipython3",
   "version": "3.11.0"
  },
  "orig_nbformat": 4,
  "vscode": {
   "interpreter": {
    "hash": "c261aea317cc0286b3b3261fbba9abdec21eaa57589985bb7a274bf54d6cc0a7"
   }
  }
 },
 "nbformat": 4,
 "nbformat_minor": 2
}
