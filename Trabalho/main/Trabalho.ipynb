{
 "cells": [
  {
   "cell_type": "markdown",
   "metadata": {},
   "source": [
    "# Trabalho PAA\n",
    "\n",
    "\n",
    "## Algoritmo Base:"
   ]
  },
  {
   "cell_type": "code",
   "execution_count": null,
   "metadata": {},
   "outputs": [],
   "source": [
    "def isMatch(text, pattern):\n",
    "  def dp(i, j, count=0):\n",
    "    if(i< len(text) and j<len(pattern)):\n",
    "      print('\\t'*count+f'({i},{j}) -> t: {text[i:]} p: {pattern[j:]}')\n",
    "    if j == len(pattern):\n",
    "        ans = i == len(text)\n",
    "    else:\n",
    "        first_match = i < len(text) and pattern[j] in {text[i], '.'}\n",
    "        if j+1 < len(pattern) and pattern[j+1] == '*':\n",
    "            c1 = dp(i, j+2, count=count+1)\n",
    "            ans = c1 or first_match and dp(i+1, j, count=count+1)\n",
    "        else:\n",
    "            ans = first_match and dp(i+1, j+1, count=count+1)\n",
    "\n",
    "    return ans\n",
    "  return dp(0, 0)\n",
    "\n",
    "\n",
    "\n",
    "\n",
    "# isMatch('acc', 'ac*aa')\n",
    "# print('--------')\n",
    "# isMatch('accG', 'ac*G')\n",
    "# print('--------')\n",
    "# isMatch('a', 'ac*')\n",
    "# print('--------')\n",
    "# isMatch('aab', 'c*a*b')\n",
    "# isMatch('aab', '.*')\n",
    "print(isMatch('aaax','.*a*b'))\n",
    "\n"
   ]
  },
  {
   "cell_type": "code",
   "execution_count": null,
   "metadata": {},
   "outputs": [],
   "source": [
    "import csv\n",
    "\n",
    "def writeCsv(name,data):\n",
    "# open the file in the write mode\n",
    "  with open(f'{name}.csv','w') as file:\n",
    "    # create the csv writer\n",
    "    writer = csv.writer(file)\n",
    "    for row in data:\n",
    "      writer.writerow(row)\n",
    "    # close the file\n",
    "    file.close()"
   ]
  },
  {
   "cell_type": "code",
   "execution_count": 32,
   "metadata": {},
   "outputs": [],
   "source": [
    "def isMatch(text, pattern):\n",
    "  memo = {}\n",
    "  countMemo = 0\n",
    "  def dp(i, j, count=0):\n",
    "\n",
    "    if (i, j)  in memo:\n",
    "      countMemo = countMemo+1\n",
    "      print('\\n#\\n')\n",
    "      return memo[(i, j)]\n",
    "    if j == len(pattern):\n",
    "        memo[(i, j)] = i == len(text)\n",
    "        return memo[(i, j)]\n",
    "\n",
    "    if(i<= len(text) and j<len(pattern)):\n",
    "      print('\\t'*count+f'({i},{j}) -> t: {text[i:]} p: {pattern[j:]}')\n",
    "      # print(memo)\n",
    "    \n",
    "    first_match = i < len(text) and pattern[j] in {text[i], '.'}\n",
    "    if j+1 < len(pattern) and pattern[j+1] == '*':\n",
    "          memo[(i, j)] = dp(i, j+2, count=count+1) or first_match and dp(i+1, j, count=count+1)\n",
    "          return  memo[(i, j)]\n",
    "    if first_match:\n",
    "          memo[(i, j)] = dp(i+1, j+1, count=count+1)\n",
    "          return  memo[(i, j)]\n",
    "    memo[(i, j)] = False\n",
    "    return memo[(i, j)]\n",
    "  res = dp(0, 0)\n",
    "  print('-------------')\n",
    "  return res\n",
    "\n",
    "\n",
    "useCasesTrue = [\n",
    "  ('a','a*'),\n",
    "  ('aab','c*a*b'),\n",
    "  ('aaaa','c*a*'),\n",
    "  ('abcx','.*'),\n",
    "  ('abcxa','abcxa'),\n",
    "  ('z','a*b*c*zk*'),\n",
    "  ('xccc','xc*'),\n",
    "  ('','.*'),\n",
    "  ('dasdasjda','.*'),\n",
    "  ('aaaax','.*a*')\n",
    "  ]\n",
    "\n",
    "useCasesFalse = [\n",
    "  ('aaaa','a'),\n",
    "  ('bbb','a*'),\n",
    "  ('bbb','ca*'),\n",
    "  ('bbb','b*c'),\n",
    "  ('aaaab','.*a*x'),\n",
    "  ('','b*ac*'),\n",
    "  ('xaxaxa','x*a*'),\n",
    "  ('dotatres','valve')\n",
    "]\n",
    "\n",
    "form = lambda uc: [ [x,y, isMatch(x,y) ] for x,y in uc ]\n",
    "writeCsv('useCasesTrue',form(useCasesTrue))\n",
    "writeCsv('useCasesFalse',form(useCasesFalse))\n",
    "# print(form(useCasesTrue))\n",
    "# print(form(useCasesFalse))\n",
    "# print(isMatch('xnasx','.*a'))\n",
    "# print(isMatch('abcaaalsdjasdjasbd','abc.*'))\n",
    "# print(isMatch('aaax','.*a*b'))\n",
    "\n"
   ]
  },
  {
   "cell_type": "markdown",
   "metadata": {},
   "source": []
  },
  {
   "cell_type": "markdown",
   "metadata": {},
   "source": [
    "## Algoritmo com Programação Dinâmica:"
   ]
  },
  {
   "cell_type": "code",
   "execution_count": null,
   "metadata": {},
   "outputs": [],
   "source": [
    "def isMatch(text: str, pattern: str)-> bool:\n",
    "    memo = {}\n",
    "    def match(i: int, j: int)-> bool:\n",
    "        if((i,j) in memo):\n",
    "            return memo[(i,j)]\n",
    "        if (j == len(pattern)):\n",
    "            memo[(i,j)] = ( i == len(text) )\n",
    "            return memo[(i,j)]\n",
    "        first_match = i < len(text) and pattern[j] in {text[i], '.'}\n",
    "        if (j+1 < len(pattern) and pattern[j+1] == '*'):\n",
    "            memo[(i,j)] = match(i, j+2) or (first_match and match(i+1, j))\n",
    "            return memo[(i,j)]\n",
    "        else:\n",
    "            memo[(i,j)] = first_match and match(i+1, j+1)\n",
    "            return memo[(i,j)]\n",
    "    return match(0,0)\n",
    "print(isMatch('aaax','.*a*'))"
   ]
  },
  {
   "cell_type": "code",
   "execution_count": null,
   "metadata": {},
   "outputs": [],
   "source": []
  }
 ],
 "metadata": {
  "kernelspec": {
   "display_name": "Python 3.10.4 64-bit",
   "language": "python",
   "name": "python3"
  },
  "language_info": {
   "codemirror_mode": {
    "name": "ipython",
    "version": 3
   },
   "file_extension": ".py",
   "mimetype": "text/x-python",
   "name": "python",
   "nbconvert_exporter": "python",
   "pygments_lexer": "ipython3",
   "version": "3.10.4"
  },
  "orig_nbformat": 4,
  "vscode": {
   "interpreter": {
    "hash": "369f2c481f4da34e4445cda3fffd2e751bd1c4d706f27375911949ba6bb62e1c"
   }
  }
 },
 "nbformat": 4,
 "nbformat_minor": 2
}
